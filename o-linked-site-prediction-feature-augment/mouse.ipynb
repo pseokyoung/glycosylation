{
 "cells": [
  {
   "cell_type": "code",
   "execution_count": 2,
   "metadata": {},
   "outputs": [],
   "source": [
    "import pyautogui\n",
    "import time\n",
    "\n",
    "# 마우스 이동\n",
    "# mac = 손쉬운 사용 vscode 사용 권한 설정\n",
    "hours = 2\n",
    "for _ in range(int(hours*3)):\n",
    "    pyautogui.moveTo(300, 400)\n",
    "    time.sleep(1)\n",
    "    pyautogui.click()\n",
    "    time.sleep(600)\n",
    "    \n",
    "    pyautogui.moveTo(350, 400)\n",
    "    time.sleep(1)\n",
    "    pyautogui.click()\n",
    "    time.sleep(600)"
   ]
  }
 ],
 "metadata": {
  "kernelspec": {
   "display_name": "python39",
   "language": "python",
   "name": "python3"
  },
  "language_info": {
   "codemirror_mode": {
    "name": "ipython",
    "version": 3
   },
   "file_extension": ".py",
   "mimetype": "text/x-python",
   "name": "python",
   "nbconvert_exporter": "python",
   "pygments_lexer": "ipython3",
   "version": "3.9.12"
  }
 },
 "nbformat": 4,
 "nbformat_minor": 2
}
