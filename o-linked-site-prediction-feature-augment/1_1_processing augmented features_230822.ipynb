{
 "cells": [
  {
   "cell_type": "markdown",
   "id": "7394ed39",
   "metadata": {},
   "source": [
    "# header"
   ]
  },
  {
   "cell_type": "code",
   "execution_count": 1,
   "id": "978b9504",
   "metadata": {
    "ExecuteTime": {
     "end_time": "2023-08-24T20:29:14.684680Z",
     "start_time": "2023-08-24T20:29:14.665482Z"
    }
   },
   "outputs": [],
   "source": [
    "# '''\n",
    "# function ConnectButton(){\n",
    "#     console.log(\"Connect pushed\"); \n",
    "#     document.querySelector(\"#top-toolbar > colab-connect-button\").shadowRoot.querySelector(\"#connect\").click() \n",
    "# }\n",
    "\n",
    "# setInterval(ConnectButton,60000);\n",
    "# '''\n",
    "\n",
    "# from google.colab import drive\n",
    "# from os import chdir\n",
    "\n",
    "# drive.mount('/content/drive')\n",
    "# project_path = '/content/drive/MyDrive/Gproject/PSE_gas_sensor'\n",
    "# chdir(project_path)"
   ]
  },
  {
   "cell_type": "code",
   "execution_count": 2,
   "id": "9909cb5d",
   "metadata": {
    "ExecuteTime": {
     "end_time": "2023-08-24T20:29:15.905200Z",
     "start_time": "2023-08-24T20:29:15.128290Z"
    }
   },
   "outputs": [],
   "source": [
    "# headerimport numpy as np\n",
    "import pandas as pd\n",
    "import shutil\n",
    "\n",
    "import os\n",
    "\n",
    "update = False"
   ]
  },
  {
   "cell_type": "code",
   "execution_count": 3,
   "id": "6fd5ef6a",
   "metadata": {
    "ExecuteTime": {
     "end_time": "2023-08-24T20:29:15.951308Z",
     "start_time": "2023-08-24T20:29:15.912256Z"
    }
   },
   "outputs": [],
   "source": [
    "from src.utils import *\n",
    "\n",
    "DATA_PATH = './data'\n",
    "        \n",
    "def remove_space(sequence_str):\n",
    "    return sequence_str.replace(' ', '')"
   ]
  },
  {
   "cell_type": "code",
   "execution_count": 4,
   "id": "34252c38",
   "metadata": {
    "ExecuteTime": {
     "end_time": "2023-08-24T20:29:16.214476Z",
     "start_time": "2023-08-24T20:29:16.207528Z"
    }
   },
   "outputs": [],
   "source": [
    "NEW_PATH = f'{DATA_PATH}/new_feature'\n",
    "protein_list = [x[:-4] for x in os.listdir(NEW_PATH) if x[-3:] == 'pkl']"
   ]
  },
  {
   "cell_type": "code",
   "execution_count": 6,
   "id": "1f0a23d8",
   "metadata": {
    "ExecuteTime": {
     "end_time": "2023-08-24T20:32:17.631777Z",
     "start_time": "2023-08-24T20:32:17.329559Z"
    }
   },
   "outputs": [],
   "source": [
    "SAP_PATH = f'{DATA_PATH}/_from_Krishna_SAP'\n",
    "\n",
    "path = f'{DATA_PATH}/from_Krishna_SAP'\n",
    "create_dir(path)\n",
    "\n",
    "for protein in protein_list:\n",
    "    for name in os.listdir(SAP_PATH):\n",
    "        if protein in name and not os.path.exists(f'{path}/{protein}.csv'):\n",
    "            shutil.copyfile(f'{SAP_PATH}/{name}',\n",
    "                            f'{path}/{protein}.csv')\n",
    "            \n",
    "        else:\n",
    "            pass"
   ]
  },
  {
   "cell_type": "code",
   "execution_count": 7,
   "id": "d50b216f",
   "metadata": {
    "ExecuteTime": {
     "end_time": "2023-08-24T20:36:06.267731Z",
     "start_time": "2023-08-24T20:36:00.398365Z"
    }
   },
   "outputs": [],
   "source": [
    "NEW_PATH = f'{DATA_PATH}/_from_Krishna_radius'\n",
    "\n",
    "path = f'{DATA_PATH}/from_Krishna_radius'\n",
    "create_dir(path)\n",
    "\n",
    "for protein in protein_list:\n",
    "    if not os.path.exists(f'{path}/{protein}.csv'):\n",
    "        shutil.copyfile(f'{NEW_PATH}/{protein}/all_AA/all_AA_new_feature_window/OUTPUT-WINDOW-all-combine.csv',\n",
    "                        f'{path}/{protein}.csv')\n",
    "\n",
    "    else:\n",
    "        pass"
   ]
  }
 ],
 "metadata": {
  "kernelspec": {
   "display_name": "python 3.9",
   "language": "python",
   "name": "python39"
  },
  "language_info": {
   "codemirror_mode": {
    "name": "ipython",
    "version": 3
   },
   "file_extension": ".py",
   "mimetype": "text/x-python",
   "name": "python",
   "nbconvert_exporter": "python",
   "pygments_lexer": "ipython3",
   "version": "3.9.12"
  },
  "toc": {
   "base_numbering": 1,
   "nav_menu": {},
   "number_sections": true,
   "sideBar": true,
   "skip_h1_title": false,
   "title_cell": "Table of Contents",
   "title_sidebar": "Contents",
   "toc_cell": false,
   "toc_position": {},
   "toc_section_display": true,
   "toc_window_display": false
  }
 },
 "nbformat": 4,
 "nbformat_minor": 5
}
