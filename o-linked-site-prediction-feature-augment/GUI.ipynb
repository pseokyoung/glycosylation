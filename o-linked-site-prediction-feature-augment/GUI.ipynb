{
 "cells": [
  {
   "cell_type": "code",
   "execution_count": 2,
   "metadata": {},
   "outputs": [],
   "source": [
    "from tkinter import *\n",
    "import requests"
   ]
  },
  {
   "cell_type": "code",
   "execution_count": 104,
   "metadata": {},
   "outputs": [],
   "source": [
    "# Main window configuration\n",
    "win = Tk()\n",
    "win.geometry('1000x1000')\n",
    "win.title('O-GlcNAcylation predictor')\n",
    "win.option_add('*Font', 'sans-serif 24')\n",
    "\n",
    "# Label for protein ID\n",
    "lab = Label(win)\n",
    "lab.config(text = 'Protein ID',\n",
    "           width = 15, height = 2, background='#3B3838', fg='white')\n",
    "lab.grid(row = 0, column = 0, padx = 5, pady = 5)\n",
    "\n",
    "# Entry for input protein ID\n",
    "def clear_ent_id(event):\n",
    "    # if ent.get() == 'A2ABU4':\n",
    "    ent_id.delete(0, len(ent_id.get()))\n",
    "ent_id = Entry(win)\n",
    "ent_id.config(justify='center',\n",
    "           width = 11)\n",
    "ent_id.insert(0, 'A2ABU4')\n",
    "ent_id.bind(\"<Button-1>\", clear_ent_id)\n",
    "ent_id.grid(row = 0, column = 1, padx = 5, pady = 5)\n",
    "\n",
    "# Button for get protein sequence from ID\n",
    "def get_sequence(protein_id):\n",
    "    url = f\"https://rest.uniprot.org/uniprotkb/{protein_id}.fasta\"\n",
    "    req = requests.get(url)\n",
    "    protein_sequence = ''.join(req.text.split(' ')[-1].split('\\n')[1:-1])\n",
    "    return protein_sequence\n",
    "\n",
    "def btn_cmd():\n",
    "    protein_id = ent_id.get()\n",
    "    protein_sequence = get_sequence(protein_id)\n",
    "    lab_seq.config(text =  f'{len(protein_sequence)} AAs' + f'\\n\\n{protein_sequence[:10]}' + f'\\n{protein_sequence[10:20]}' + \\\n",
    "                   '\\n...\\n' + \\\n",
    "                   f'\\n{protein_sequence[-20:-10]}' + f'\\n{protein_sequence[-10:]}')\n",
    "    \n",
    "btn_seq = Button(win, text='get sequence')\n",
    "btn_seq.config(command=btn_cmd,\n",
    "               width=15, height = 1, background=None)\n",
    "btn_seq.grid(row = 0, column = 2, padx = 5, pady = 5)\n",
    "\n",
    "# Label for displaying sequence of target sequence\n",
    "lab_seq = Label(win)\n",
    "lab_seq.config(text = 'Sequecne will be \\n displayed here',\n",
    "           width = 15, height = 10, background='#3B3838', fg='white')\n",
    "lab_seq.grid(row = 1, column = 0, padx = 5, pady = 5)\n",
    "\n",
    "# Entry for input custom sequence\n",
    "def clear_ent_seq(event):\n",
    "    # if ent.get() == 'A2ABU4':\n",
    "    ent_seq.delete(0, len(ent_seq.get()))\n",
    "ent_seq = Entry(win)\n",
    "ent_seq.config(justify='left',\n",
    "               width = 30)\n",
    "ent_seq.insert(0, 'enter amino acid sequence')\n",
    "ent_seq.bind(\"<Button-1>\", clear_ent_seq)\n",
    "ent_seq.grid(row = 1, column = 1, padx = 5, pady = 5)\n",
    "\n",
    "# Button\n",
    "tex = Text(win)\n",
    "tex.config(height = 10, width = 10)\n",
    "tex.grid(row = 2, column = 0)\n",
    "\n",
    "\n",
    "\n",
    "win.mainloop()"
   ]
  },
  {
   "cell_type": "code",
   "execution_count": 29,
   "metadata": {},
   "outputs": [],
   "source": [
    "\n",
    "\n"
   ]
  },
  {
   "cell_type": "code",
   "execution_count": null,
   "metadata": {},
   "outputs": [],
   "source": []
  }
 ],
 "metadata": {
  "kernelspec": {
   "display_name": "python39",
   "language": "python",
   "name": "python3"
  },
  "language_info": {
   "codemirror_mode": {
    "name": "ipython",
    "version": 3
   },
   "file_extension": ".py",
   "mimetype": "text/x-python",
   "name": "python",
   "nbconvert_exporter": "python",
   "pygments_lexer": "ipython3",
   "version": "3.11.4"
  }
 },
 "nbformat": 4,
 "nbformat_minor": 2
}
